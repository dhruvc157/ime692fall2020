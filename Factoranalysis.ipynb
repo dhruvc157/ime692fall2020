{
 "cells": [
  {
   "cell_type": "code",
   "execution_count": 1,
   "metadata": {},
   "outputs": [],
   "source": [
    "#install a package in current environment\n",
    "#!conda install -c conda-forge factor_analyzer --y\n",
    "\n",
    "import numpy as np\n",
    "import pandas as pd\n",
    "from factor_analyzer import FactorAnalyzer\n",
    "path = 'F:/fall-20/ime692/lecture4/decathlon.csv'"
   ]
  },
  {
   "cell_type": "code",
   "execution_count": 2,
   "metadata": {},
   "outputs": [
    {
     "data": {
      "text/plain": [
       "['100m', 'LJ', 'SP', 'HJ', '400m', '100mH', 'DS', 'PV', 'JV', '1500m']"
      ]
     },
     "execution_count": 2,
     "metadata": {},
     "output_type": "execute_result"
    }
   ],
   "source": [
    "#280 scores from 1960 to 2004 for Olympic decathlon\n",
    "\n",
    "df_features = pd.read_csv(path)\n",
    "hd = list(df_features.columns.values)\n",
    "hd"
   ]
  },
  {
   "cell_type": "code",
   "execution_count": 3,
   "metadata": {},
   "outputs": [
    {
     "data": {
      "text/plain": [
       "FactorAnalyzer(is_corr_matrix=True, rotation='varimax', rotation_kwargs={})"
      ]
     },
     "execution_count": 3,
     "metadata": {},
     "output_type": "execute_result"
    }
   ],
   "source": [
    "fa = FactorAnalyzer(rotation='varimax', n_factors = 3, is_corr_matrix=True)\n",
    "fa.fit(df_features)"
   ]
  },
  {
   "cell_type": "code",
   "execution_count": 42,
   "metadata": {},
   "outputs": [
    {
     "data": {
      "text/html": [
       "<div>\n",
       "<style scoped>\n",
       "    .dataframe tbody tr th:only-of-type {\n",
       "        vertical-align: middle;\n",
       "    }\n",
       "\n",
       "    .dataframe tbody tr th {\n",
       "        vertical-align: top;\n",
       "    }\n",
       "\n",
       "    .dataframe thead th {\n",
       "        text-align: right;\n",
       "    }\n",
       "</style>\n",
       "<table border=\"1\" class=\"dataframe\">\n",
       "  <thead>\n",
       "    <tr style=\"text-align: right;\">\n",
       "      <th></th>\n",
       "      <th>factor1</th>\n",
       "      <th>factor2</th>\n",
       "      <th>factor3</th>\n",
       "    </tr>\n",
       "  </thead>\n",
       "  <tbody>\n",
       "    <tr>\n",
       "      <th>100m</th>\n",
       "      <td>0.223</td>\n",
       "      <td>0.978</td>\n",
       "      <td>-0.023</td>\n",
       "    </tr>\n",
       "    <tr>\n",
       "      <th>LJ</th>\n",
       "      <td>0.417</td>\n",
       "      <td>0.576</td>\n",
       "      <td>0.297</td>\n",
       "    </tr>\n",
       "    <tr>\n",
       "      <th>SP</th>\n",
       "      <td>0.891</td>\n",
       "      <td>0.264</td>\n",
       "      <td>-0.019</td>\n",
       "    </tr>\n",
       "    <tr>\n",
       "      <th>HJ</th>\n",
       "      <td>0.438</td>\n",
       "      <td>0.276</td>\n",
       "      <td>0.480</td>\n",
       "    </tr>\n",
       "    <tr>\n",
       "      <th>400m</th>\n",
       "      <td>0.112</td>\n",
       "      <td>0.498</td>\n",
       "      <td>0.502</td>\n",
       "    </tr>\n",
       "    <tr>\n",
       "      <th>100mH</th>\n",
       "      <td>0.302</td>\n",
       "      <td>0.271</td>\n",
       "      <td>0.154</td>\n",
       "    </tr>\n",
       "    <tr>\n",
       "      <th>DS</th>\n",
       "      <td>0.800</td>\n",
       "      <td>0.163</td>\n",
       "      <td>0.001</td>\n",
       "    </tr>\n",
       "    <tr>\n",
       "      <th>PV</th>\n",
       "      <td>0.475</td>\n",
       "      <td>0.322</td>\n",
       "      <td>0.497</td>\n",
       "    </tr>\n",
       "    <tr>\n",
       "      <th>JV</th>\n",
       "      <td>0.479</td>\n",
       "      <td>0.090</td>\n",
       "      <td>0.143</td>\n",
       "    </tr>\n",
       "    <tr>\n",
       "      <th>1500m</th>\n",
       "      <td>-0.029</td>\n",
       "      <td>-0.014</td>\n",
       "      <td>0.600</td>\n",
       "    </tr>\n",
       "  </tbody>\n",
       "</table>\n",
       "</div>"
      ],
      "text/plain": [
       "       factor1  factor2  factor3\n",
       "100m     0.223    0.978   -0.023\n",
       "LJ       0.417    0.576    0.297\n",
       "SP       0.891    0.264   -0.019\n",
       "HJ       0.438    0.276    0.480\n",
       "400m     0.112    0.498    0.502\n",
       "100mH    0.302    0.271    0.154\n",
       "DS       0.800    0.163    0.001\n",
       "PV       0.475    0.322    0.497\n",
       "JV       0.479    0.090    0.143\n",
       "1500m   -0.029   -0.014    0.600"
      ]
     },
     "execution_count": 42,
     "metadata": {},
     "output_type": "execute_result"
    }
   ],
   "source": [
    "loadings = np.round(fa.loadings_, decimals=3)\n",
    "pd.DataFrame(loadings, index = hd, columns = ('factor1', 'factor2', 'factor3'))\n",
    "\n",
    "#Factor1 - explosive arm strength\n",
    "#Factor2 - explosive leg strength\n",
    "#factor3 - running endurance"
   ]
  },
  {
   "cell_type": "code",
   "execution_count": 45,
   "metadata": {},
   "outputs": [
    {
     "data": {
      "text/plain": [
       "(array([2.40842834, 1.89474593, 1.2209245 ]),\n",
       " array([0.24084283, 0.18947459, 0.12209245]),\n",
       " array([0.24084283, 0.43031743, 0.55240988]))"
      ]
     },
     "execution_count": 45,
     "metadata": {},
     "output_type": "execute_result"
    }
   ],
   "source": [
    "fa.get_factor_variance()"
   ]
  },
  {
   "cell_type": "code",
   "execution_count": 46,
   "metadata": {},
   "outputs": [
    {
     "data": {
      "text/plain": [
       "array([-0.00770588,  0.406285  ,  0.13671764,  0.50219928,  0.4876973 ,\n",
       "        0.81183201,  0.33329695,  0.42422931,  0.74182638,  0.63952323])"
      ]
     },
     "execution_count": 46,
     "metadata": {},
     "output_type": "execute_result"
    }
   ],
   "source": [
    "fa.get_uniquenesses()"
   ]
  },
  {
   "cell_type": "code",
   "execution_count": null,
   "metadata": {},
   "outputs": [],
   "source": []
  },
  {
   "cell_type": "code",
   "execution_count": 2,
   "metadata": {},
   "outputs": [],
   "source": [
    "import unicodedata2"
   ]
  },
  {
   "cell_type": "code",
   "execution_count": null,
   "metadata": {},
   "outputs": [],
   "source": []
  }
 ],
 "metadata": {
  "kernelspec": {
   "display_name": "Python 3",
   "language": "python",
   "name": "python3"
  },
  "language_info": {
   "codemirror_mode": {
    "name": "ipython",
    "version": 3
   },
   "file_extension": ".py",
   "mimetype": "text/x-python",
   "name": "python",
   "nbconvert_exporter": "python",
   "pygments_lexer": "ipython3",
   "version": "3.8.3"
  }
 },
 "nbformat": 4,
 "nbformat_minor": 4
}
